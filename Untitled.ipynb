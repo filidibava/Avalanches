{
 "cells": [
  {
   "cell_type": "code",
   "execution_count": 12,
   "id": "c06c1c9e",
   "metadata": {},
   "outputs": [],
   "source": [
    "import numpy as np\n",
    "import glob\n",
    "import os\n",
    "import matplotlib.pyplot as plt\n",
    "import scipy.special as sp\n",
    "from decimal import Decimal, getcontext\n",
    "getcontext().prec = 600"
   ]
  },
  {
   "cell_type": "code",
   "execution_count": 2,
   "id": "b6b4d7f9",
   "metadata": {},
   "outputs": [],
   "source": [
    "def delays(novelties,flag):\n",
    "    delay = np.diff(novelties)\n",
    "    delay = np.array([i for i in delay if i!=1])\n",
    "    delay = np.array([i-1 for i in delay])\n",
    "    if(flag == True):\n",
    "        return np.log(delay)\n",
    "    else:\n",
    "        return delay"
   ]
  },
  {
   "cell_type": "code",
   "execution_count": 3,
   "id": "42def4cf",
   "metadata": {},
   "outputs": [],
   "source": [
    "path = os.getcwd()"
   ]
  },
  {
   "cell_type": "code",
   "execution_count": 4,
   "id": "f68d0ae6",
   "metadata": {},
   "outputs": [],
   "source": [
    "all_files = glob.glob(os.path.join(path, '*.txt'))"
   ]
  },
  {
   "cell_type": "code",
   "execution_count": 27,
   "id": "6770212e",
   "metadata": {},
   "outputs": [],
   "source": [
    "#FACCIO UNA LISTA IN CUI CARICO TUTTI I DELAY E RELATIVE FREQUENZE\n",
    "t_min = 10**6\n",
    "list_delays = []\n",
    "max_delay = 0\n",
    "for file in all_files:\n",
    "    a = np.loadtxt(file)\n",
    "    for idx,j in enumerate(a):\n",
    "        if(j>t_min):\n",
    "            ref = idx\n",
    "            break\n",
    "    \n",
    "    delays_ = delays(a[idx:],False)\n",
    "    if (np.max(delays_)>max_delay):\n",
    "        max_delay = np.max(delays_)\n",
    "    b = np.unique(delays_,return_counts=True)\n",
    "    list_delays.append([b[0],b[1]/np.sum(b[1])])"
   ]
  },
  {
   "cell_type": "code",
   "execution_count": 20,
   "id": "30c602f4",
   "metadata": {},
   "outputs": [
    {
     "data": {
      "text/plain": [
       "102"
      ]
     },
     "execution_count": 20,
     "metadata": {},
     "output_type": "execute_result"
    }
   ],
   "source": [
    "len(list_delays)"
   ]
  },
  {
   "cell_type": "code",
   "execution_count": 28,
   "id": "d3b83de2",
   "metadata": {},
   "outputs": [],
   "source": [
    "dels = np.arange(1,max_delay+1)"
   ]
  },
  {
   "cell_type": "code",
   "execution_count": 29,
   "id": "9427266e",
   "metadata": {},
   "outputs": [],
   "source": [
    "#TESTO SE È TUTTO NORMALIZZATO\n",
    "prova = 0\n",
    "for i in list_delays:\n",
    "    prova+=sum(i[1])"
   ]
  },
  {
   "cell_type": "code",
   "execution_count": null,
   "id": "4262cd45",
   "metadata": {},
   "outputs": [],
   "source": []
  },
  {
   "cell_type": "code",
   "execution_count": 30,
   "id": "03c5f834",
   "metadata": {},
   "outputs": [
    {
     "name": "stdout",
     "output_type": "stream",
     "text": [
      "Result Frequencies: [3 0 1 0 2 0 4 0 1 0 0]\n"
     ]
    }
   ],
   "source": [
    "def transform_array_optimized(values, frequencies, lower_bound, upper_bound):\n",
    "    value_freq_map = dict(zip(values, frequencies))\n",
    "    \n",
    "    result_values = list(range(lower_bound, upper_bound + 1))\n",
    "    result_frequencies = [value_freq_map.get(value, 0) for value in result_values]\n",
    "\n",
    "    return np.array(result_frequencies)\n",
    "\n",
    "# Example usage:\n",
    "original_values = [2, 4, 6, 8, 10]\n",
    "original_frequencies = [3, 1, 2, 4, 1]\n",
    "lower_bound = 2\n",
    "upper_bound = 12\n",
    "\n",
    "result_frequencies = transform_array_optimized(original_values, original_frequencies, lower_bound, upper_bound)\n",
    "\n",
    "print(\"Result Frequencies:\", result_frequencies)\n"
   ]
  },
  {
   "cell_type": "code",
   "execution_count": 31,
   "id": "7e196c18",
   "metadata": {},
   "outputs": [],
   "source": [
    "frequencies = np.zeros(int(max_delay))\n",
    "for delays_freqs in list_delays:\n",
    "    frequencies += transform_array_optimized(delays_freqs[0],delays_freqs[1],1,int(max_delay))\n",
    "    "
   ]
  },
  {
   "cell_type": "code",
   "execution_count": 32,
   "id": "2faab1a8",
   "metadata": {},
   "outputs": [],
   "source": [
    "frequencies/=102"
   ]
  },
  {
   "cell_type": "code",
   "execution_count": 33,
   "id": "30bab99a",
   "metadata": {},
   "outputs": [
    {
     "data": {
      "text/plain": [
       "array([2.36618061e-03, 2.38935756e-03, 2.44996920e-03, ...,\n",
       "       0.00000000e+00, 0.00000000e+00, 2.47761475e-06])"
      ]
     },
     "execution_count": 33,
     "metadata": {},
     "output_type": "execute_result"
    }
   ],
   "source": [
    "frequencies"
   ]
  },
  {
   "cell_type": "code",
   "execution_count": null,
   "id": "058e7c67",
   "metadata": {},
   "outputs": [],
   "source": []
  },
  {
   "cell_type": "code",
   "execution_count": 19,
   "id": "6ba85fde",
   "metadata": {},
   "outputs": [
    {
     "data": {
      "text/plain": [
       "1.02"
      ]
     },
     "execution_count": 19,
     "metadata": {},
     "output_type": "execute_result"
    }
   ],
   "source": [
    "np.sum(frequencies)"
   ]
  },
  {
   "cell_type": "code",
   "execution_count": 13,
   "id": "9b54822c",
   "metadata": {},
   "outputs": [],
   "source": [
    "def binomial_coeff_lists(lmax):\n",
    "    b_c = [[Decimal(0) for i in range(lmax)] for j in range(lmax) ]\n",
    "    for j in range(0,lmax):\n",
    "        b_c[j][0] = Decimal(1)\n",
    "        b_c[0][j] = Decimal(1)\n",
    "        b_c[j][j] = Decimal(1)\n",
    "    for k in range(1,lmax):\n",
    "        for s in range(1,k):\n",
    "            b_c[k][s] = Decimal(b_c[k-1][s]) + Decimal(b_c[k-1][s-1])\n",
    "    return b_c\n",
    "\n",
    "def compute_terms(nu,rho,l_max,t_max,t_min):\n",
    "    frac = Decimal(nu/rho)\n",
    "    gamma = Decimal(1-nu/rho)\n",
    "    norm = Decimal(t_max - t_min)\n",
    "    const = ((Decimal(rho-nu))**(Decimal(frac)))*Decimal(frac)\n",
    "    const_array = [(Decimal(-1)**(i))*Decimal(const**(i+1)) for i in range(0,l_max)]\n",
    "    values = [Decimal(1/norm) for i in range (0,l_max)]\n",
    "    if(nu%(rho-nu)==0):\n",
    "        print('divergenza!')\n",
    "        idx_div = int(nu/(rho-nu))\n",
    "        times_array_pre_div = [ ((Decimal(t_min)**(-Decimal(gamma*(i+1))+Decimal(1)))-(Decimal(t_max)**(-Decimal(gamma*(i+1))+Decimal(1))))/(Decimal(gamma*(i+1)-1)) for i in range(0,idx_div)]\n",
    "        times_array_pre_div.append(Decimal(np.log(t_max/t_min)))\n",
    "        times_array_after_div = [ ((Decimal(t_min)**(-Decimal(gamma*(i+1))+Decimal(1)))-(Decimal(t_max)**(-Decimal(gamma*(i+1))+Decimal(1))))/(Decimal(gamma*(i+1)-1)) for i in range(idx_div+1,l_max)]\n",
    "        times_array = times_array_pre_div+times_array_after_div\n",
    "    \n",
    "    else:\n",
    "        times_array = [ ((Decimal(t_min)**(-Decimal(gamma*(i+1))+Decimal(1)))-(Decimal(t_max)**(-Decimal(gamma*(i+1))+Decimal(1))))/(Decimal(gamma*(i+1)-1)) for i in range(0,l_max)]\n",
    "        \n",
    "    for idx in range(0,l_max):\n",
    "        values[idx] = const_array[idx]*times_array[idx]*values[idx]\n",
    "    return values\n",
    "\n",
    "def probability_distribution(nu,rho,l_max,t_max,t_min):\n",
    "    binomial_coefficients = binomial_coeff_lists(l_max)\n",
    "    vals = compute_terms(nu,rho,l_max,t_max,t_min)\n",
    "    lengths= np.arange(1,l_max+1)\n",
    "    pdf_values = [Decimal(0) for i in range(0,l_max+1)]\n",
    "    for length in lengths:\n",
    "        for j in range (0,int(length)):\n",
    "            pdf_values[int(length)] += Decimal(binomial_coefficients[int(length-1)][j])*Decimal(vals[j])        \n",
    "    return lengths,pdf_values"
   ]
  },
  {
   "cell_type": "code",
   "execution_count": 16,
   "id": "1ac7c5ff",
   "metadata": {},
   "outputs": [],
   "source": [
    "x,y = probability_distribution(3,5,2000,10000000,1000)"
   ]
  },
  {
   "cell_type": "code",
   "execution_count": 34,
   "id": "09d12fbf",
   "metadata": {},
   "outputs": [
    {
     "data": {
      "image/png": "[encoded data removed]",
      "text/plain": [
       "<Figure size 1080x864 with 1 Axes>"
      ]
     },
     "metadata": {
      "needs_background": "light"
     },
     "output_type": "display_data"
    }
   ],
   "source": [
    "fig, axs = plt.subplots(figsize=(15,12),constrained_layout=True)\n",
    "\n",
    "axs.scatter(np.log(dels),frequencies,color = 'r',label=r'$\\nu=3,\\rho=5,scambiabile$')\n",
    "axs.scatter(np.log(x),y[1:],color = 'b')\n",
    "#axs.set_xscale('log')\n",
    "#axs.set_yscale('log')\n",
    "axs.xaxis.set_tick_params(labelsize=20)\n",
    "axs.yaxis.set_tick_params(labelsize=20)\n",
    "axs.tick_params(axis='both',top=True, bottom=True,right= True, \n",
    "               labeltop=False, labelbottom=True,direction='in',length=10)\n",
    "axs.legend(fontsize=\"20\" )\n",
    "plt.show()"
   ]
  },
  {
   "cell_type": "code",
   "execution_count": null,
   "id": "0226ae65",
   "metadata": {},
   "outputs": [],
   "source": []
  }
 ],
 "metadata": {
  "kernelspec": {
   "display_name": "Python 3 (ipykernel)",
   "language": "python",
   "name": "python3"
  },
  "language_info": {
   "codemirror_mode": {
    "name": "ipython",
    "version": 3
   },
   "file_extension": ".py",
   "mimetype": "text/x-python",
   "name": "python",
   "nbconvert_exporter": "python",
   "pygments_lexer": "ipython3",
   "version": "3.9.7"
  }
 },
 "nbformat": 4,
 "nbformat_minor": 5
}
