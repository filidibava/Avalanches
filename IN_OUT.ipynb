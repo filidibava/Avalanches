{
 "cells": [
  {
   "cell_type": "code",
   "execution_count": 1,
   "id": "8c14bf81",
   "metadata": {},
   "outputs": [],
   "source": [
    "import pickle \n",
    "import numpy as np \n",
    "import os"
   ]
  },
  {
   "cell_type": "code",
   "execution_count": 2,
   "id": "faaa5f5b",
   "metadata": {},
   "outputs": [],
   "source": [
    "folder_path = '/home/user/Scrivania/dottorato/PATENTS/codes_short'"
   ]
  },
  {
   "cell_type": "code",
   "execution_count": 9,
   "id": "4631bea2",
   "metadata": {},
   "outputs": [
    {
     "ename": "KeyboardInterrupt",
     "evalue": "",
     "output_type": "error",
     "traceback": [
      "\u001b[0;31m---------------------------------------------------------------------------\u001b[0m",
      "\u001b[0;31mKeyboardInterrupt\u001b[0m                         Traceback (most recent call last)",
      "\u001b[0;32m/tmp/ipykernel_37482/3695626449.py\u001b[0m in \u001b[0;36m<module>\u001b[0;34m\u001b[0m\n\u001b[1;32m      8\u001b[0m                 \u001b[0mcheck\u001b[0m \u001b[0;34m=\u001b[0m \u001b[0mcode_to_patent\u001b[0m\u001b[0;34m[\u001b[0m\u001b[0mcode\u001b[0m\u001b[0;34m]\u001b[0m\u001b[0;34m\u001b[0m\u001b[0;34m\u001b[0m\u001b[0m\n\u001b[1;32m      9\u001b[0m                 \u001b[0;32mif\u001b[0m \u001b[0mpatent\u001b[0m \u001b[0;32mnot\u001b[0m \u001b[0;32min\u001b[0m \u001b[0mcheck\u001b[0m\u001b[0;34m:\u001b[0m\u001b[0;34m\u001b[0m\u001b[0;34m\u001b[0m\u001b[0m\n\u001b[0;32m---> 10\u001b[0;31m                     \u001b[0mcode_to_patent\u001b[0m\u001b[0;34m[\u001b[0m\u001b[0mcode\u001b[0m\u001b[0;34m]\u001b[0m\u001b[0;34m.\u001b[0m\u001b[0mappend\u001b[0m\u001b[0;34m(\u001b[0m\u001b[0mpatent\u001b[0m\u001b[0;34m)\u001b[0m\u001b[0;34m\u001b[0m\u001b[0;34m\u001b[0m\u001b[0m\n\u001b[0m\u001b[1;32m     11\u001b[0m \u001b[0;34m\u001b[0m\u001b[0m\n\u001b[1;32m     12\u001b[0m             \u001b[0;32mexcept\u001b[0m \u001b[0mKeyError\u001b[0m\u001b[0;34m:\u001b[0m\u001b[0;34m\u001b[0m\u001b[0;34m\u001b[0m\u001b[0m\n",
      "\u001b[0;31mKeyboardInterrupt\u001b[0m: "
     ]
    }
   ],
   "source": [
    "code_to_family = {}\n",
    "seq_code = []\n",
    "with open(str(start_year)+'CodesShort.pkl', 'rb') as file:    \n",
    "        dict_ = pickle.load(file)\n",
    "with open(str(start_year)+'_dictionary.pkl', 'rb') as file:\n",
    "        dict_fam_pat = pickle.load(file)\n",
    "found = False\n",
    "for family in dict_fam_pat:\n",
    "    if found:\n",
    "        break\n",
    "    \n",
    "    for patent in dict_fam_pat[family]:\n",
    "        try:\n",
    "            check_pat = dict_[patent]\n",
    "            last_patent = patent\n",
    "            last_family = family\n",
    "            found = True\n",
    "            break\n",
    "        except KeyError:\n",
    "            continue\n",
    "            \n",
    "\n",
    "for years in range(start_year,end_year+1):   \n",
    "    with open(str(years)+'CodesShort.pkl', 'rb') as file:    \n",
    "        dict_ = pickle.load(file)\n",
    "    with open(str(years)+'_dictionary.pkl', 'rb') as file:\n",
    "        dict_fam_pat = pickle.load(file)\n",
    "    for family,patent in zip(colonna[0],colonna[1]):\n",
    "        try:\n",
    "            check_pat = dict_[patent]\n",
    "            last_family = family\n",
    "            for code in check_pat:\n",
    "                try:\n",
    "                    families = code_to_family[code]\n",
    "                    if last_family not in families:\n",
    "                        code_to_family[code].append(last_family)\n",
    "                        seq_code.append([code,0])\n",
    "                    else:\n",
    "                        seq_code.append([code,1])\n",
    "                \n",
    "\n",
    "                except KeyError:\n",
    "                    code_to_family[code] = [last_family]\n",
    "                    seq_code.append([code,0])\n",
    "        except KeyError:\n",
    "            continue\n",
    "                    "
   ]
  },
  {
   "cell_type": "code",
   "execution_count": null,
   "id": "da8b4e88",
   "metadata": {},
   "outputs": [],
   "source": []
  }
 ],
 "metadata": {
  "kernelspec": {
   "display_name": "Python 3 (ipykernel)",
   "language": "python",
   "name": "python3"
  },
  "language_info": {
   "codemirror_mode": {
    "name": "ipython",
    "version": 3
   },
   "file_extension": ".py",
   "mimetype": "text/x-python",
   "name": "python",
   "nbconvert_exporter": "python",
   "pygments_lexer": "ipython3",
   "version": "3.9.7"
  }
 },
 "nbformat": 4,
 "nbformat_minor": 5
}
