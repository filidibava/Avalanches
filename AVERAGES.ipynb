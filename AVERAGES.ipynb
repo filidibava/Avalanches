{
 "cells": [
  {
   "cell_type": "code",
   "execution_count": 2,
   "id": "3353a532",
   "metadata": {},
   "outputs": [],
   "source": [
    "import numpy as np \n",
    "import matplotlib.pyplot as plt\n",
    "import glob\n",
    "import os"
   ]
  },
  {
   "cell_type": "code",
   "execution_count": 90,
   "id": "4be13805",
   "metadata": {},
   "outputs": [],
   "source": [
    "path3 = '/home/leggero_e_tranquillo/Scrivania/articolo/NU3RHO5/SCAMBIABILE/NOVITA'"
   ]
  },
  {
   "cell_type": "code",
   "execution_count": 91,
   "id": "6e625cb3",
   "metadata": {},
   "outputs": [],
   "source": [
    "path4 = '/home/leggero_e_tranquillo/Scrivania/articolo/NU4RHO5/SCAMBIABILE/'"
   ]
  },
  {
   "cell_type": "code",
   "execution_count": 92,
   "id": "c1e315bd",
   "metadata": {},
   "outputs": [],
   "source": [
    "path5 = '/home/leggero_e_tranquillo/Scrivania/articolo/NU5RHO5'"
   ]
  },
  {
   "cell_type": "code",
   "execution_count": 93,
   "id": "5b38f05c",
   "metadata": {},
   "outputs": [],
   "source": [
    "path6 = '/home/leggero_e_tranquillo/Scrivania/articolo/NU6RHO5'"
   ]
  },
  {
   "cell_type": "code",
   "execution_count": 94,
   "id": "fda54833",
   "metadata": {},
   "outputs": [],
   "source": [
    "path7 = '/home/leggero_e_tranquillo/Scrivania/articolo/NU7RHO5'"
   ]
  },
  {
   "cell_type": "code",
   "execution_count": 13,
   "id": "72482735",
   "metadata": {},
   "outputs": [],
   "source": [
    "def delays(novelties,flag):\n",
    "    delay = np.diff(novelties)\n",
    "    delay = np.array([i for i in delay if i!=1])\n",
    "    delay = np.array([i-1 for i in delay])\n",
    "    if(flag == True):\n",
    "        return np.log(delay)\n",
    "    else:\n",
    "        return delay"
   ]
  },
  {
   "cell_type": "code",
   "execution_count": 57,
   "id": "a67b15d6",
   "metadata": {},
   "outputs": [],
   "source": [
    "def transform_array(original_array,max_val):\n",
    "    # Extract the two rows from the original array\n",
    "    values = original_array[0]\n",
    "    frequencies = original_array[1]\n",
    "\n",
    "    # Create a new array with all integer values in the specified range\n",
    "    new_values = list(range(1, max_val + 1))\n",
    "\n",
    "    # Initialize the new frequencies array with zeros\n",
    "    new_frequencies = [0] * len(new_values)\n",
    "\n",
    "    # Update the frequencies based on the original array\n",
    "    for i, value in enumerate(values):\n",
    "        index = new_values.index(value)\n",
    "        new_frequencies[index] = frequencies[i]\n",
    "\n",
    "    # Create the final transformed array\n",
    "    transformed_array = new_frequencies\n",
    "\n",
    "    return np.array(transformed_array)\n"
   ]
  },
  {
   "cell_type": "code",
   "execution_count": 95,
   "id": "e59bf8c7",
   "metadata": {},
   "outputs": [],
   "source": [
    "paths = [path3,path4,path5,path6,path7]"
   ]
  },
  {
   "cell_type": "code",
   "execution_count": 96,
   "id": "ada069f8",
   "metadata": {},
   "outputs": [
    {
     "data": {
      "text/plain": [
       "'/home/leggero_e_tranquillo/Scrivania/articolo/NU3RHO5/SCAMBIABILE/NOVITA'"
      ]
     },
     "execution_count": 96,
     "metadata": {},
     "output_type": "execute_result"
    }
   ],
   "source": [
    "paths[0]"
   ]
  },
  {
   "cell_type": "code",
   "execution_count": 105,
   "id": "8e01d345",
   "metadata": {},
   "outputs": [],
   "source": [
    "path01= '/home/leggero_e_tranquillo/Scrivania/articolo/ETA01NU5RHO2/NOVITA'"
   ]
  },
  {
   "cell_type": "code",
   "execution_count": 106,
   "id": "3fb54d4e",
   "metadata": {},
   "outputs": [],
   "source": [
    "path02= '/home/leggero_e_tranquillo/Scrivania/articolo/ETA02NU4RHO2/NOVITA'"
   ]
  },
  {
   "cell_type": "code",
   "execution_count": 107,
   "id": "d8ca9720",
   "metadata": {},
   "outputs": [],
   "source": [
    "path03= '/home/leggero_e_tranquillo/Scrivania/articolo/ETA02NU5RHO3/NOVITA'"
   ]
  },
  {
   "cell_type": "code",
   "execution_count": 108,
   "id": "64e3e0c8",
   "metadata": {},
   "outputs": [],
   "source": [
    "paths_umst = [path01,path02,path03]"
   ]
  },
  {
   "cell_type": "code",
   "execution_count": 9,
   "id": "7c8ccdb5",
   "metadata": {},
   "outputs": [],
   "source": [
    "path2 = '/home/leggero_e_tranquillo/Scrivania/articolo/NU3RHO5/SCAMBIABILE/NOVITA'"
   ]
  },
  {
   "cell_type": "code",
   "execution_count": 97,
   "id": "e50dc949",
   "metadata": {},
   "outputs": [],
   "source": [
    "delays_frequencies_of_each_path = []\n",
    "for path in paths:\n",
    "    all_files = glob.glob(os.path.join(path, '*.txt'))\n",
    "    all_incr_delays = []\n",
    "    for novelties in all_files[:]:\n",
    "        novs = np.loadtxt(novelties)\n",
    "        list_of_delays = delays(novs,False)\n",
    "        support = np.unique(list_of_delays,return_counts=True)\n",
    "        increasing_delays = support[0] \n",
    "        freqs = support[1]/np.sum(support[1])\n",
    "        all_incr_delays.append([increasing_delays,freqs])\n",
    "    \n",
    "    max_del = 0\n",
    "    for i in all_incr_delays:\n",
    "        max_support = np.max(i[0])\n",
    "        if(max_support>max_del):\n",
    "            max_del = max_support\n",
    "    transformed_delay = [transform_array(i,int(max_del)) for i in all_incr_delays]\n",
    "    avg_freqs = np.zeros(int(max_del))\n",
    "    for i in transformed_delay:\n",
    "        avg_freqs +=i\n",
    "    avg_freqs= avg_freqs/len(transformed_delay)\n",
    "    delays_frequencies_of_each_path.append([np.arange(1,max_del+1),avg_freqs])"
   ]
  },
  {
   "cell_type": "code",
   "execution_count": 109,
   "id": "8db7cf14",
   "metadata": {},
   "outputs": [],
   "source": [
    "delays_frequencies_of_each_path_umst = []\n",
    "for path in paths_umst:\n",
    "    all_files = glob.glob(os.path.join(path, '*.txt'))\n",
    "    all_incr_delays = []\n",
    "    for novelties in all_files[:]:\n",
    "        novs = np.loadtxt(novelties)\n",
    "        list_of_delays = delays(novs,False)\n",
    "        support = np.unique(list_of_delays,return_counts=True)\n",
    "        increasing_delays = support[0] \n",
    "        freqs = support[1]/np.sum(support[1])\n",
    "        all_incr_delays.append([increasing_delays,freqs])\n",
    "    \n",
    "    max_del = 0\n",
    "    for i in all_incr_delays:\n",
    "        max_support = np.max(i[0])\n",
    "        if(max_support>max_del):\n",
    "            max_del = max_support\n",
    "    transformed_delay = [transform_array(i,int(max_del)) for i in all_incr_delays]\n",
    "    avg_freqs = np.zeros(int(max_del))\n",
    "    for i in transformed_delay:\n",
    "        avg_freqs +=i\n",
    "    avg_freqs= avg_freqs/len(transformed_delay)\n",
    "    delays_frequencies_of_each_path_umst.append([np.arange(1,max_del+1),avg_freqs])"
   ]
  },
  {
   "cell_type": "code",
   "execution_count": 110,
   "id": "c5745860",
   "metadata": {},
   "outputs": [
    {
     "data": {
      "text/plain": [
       "[[array([1.0000e+00, 2.0000e+00, 3.0000e+00, ..., 5.7104e+04, 5.7105e+04,\n",
       "         5.7106e+04]),\n",
       "  array([2.79065988e-01, 1.44731474e-01, 7.75350709e-02, ...,\n",
       "         0.00000000e+00, 0.00000000e+00, 9.10000910e-05])],\n",
       " [array([1.0000e+00, 2.0000e+00, 3.0000e+00, ..., 1.3316e+04, 1.3317e+04,\n",
       "         1.3318e+04]),\n",
       "  array([2.54083428e-01, 1.57818997e-01, 9.91780874e-02, ...,\n",
       "         0.00000000e+00, 0.00000000e+00, 3.47222222e-05])],\n",
       " [array([1.0000e+00, 2.0000e+00, 3.0000e+00, ..., 3.3638e+04, 3.3639e+04,\n",
       "         3.3640e+04]),\n",
       "  array([9.79459822e-02, 6.92054838e-02, 5.15783194e-02, ...,\n",
       "         0.00000000e+00, 0.00000000e+00, 9.61538462e-05])]]"
      ]
     },
     "execution_count": 110,
     "metadata": {},
     "output_type": "execute_result"
    }
   ],
   "source": [
    "delays_frequencies_of_each_path_umst"
   ]
  },
  {
   "cell_type": "code",
   "execution_count": 100,
   "id": "c0da3a3f",
   "metadata": {},
   "outputs": [
    {
     "data": {
      "text/plain": [
       "(3207, 3207)"
      ]
     },
     "execution_count": 100,
     "metadata": {},
     "output_type": "execute_result"
    }
   ],
   "source": [
    "len(delays_frequencies_of_each_path[1][0]),len(delays_frequencies_of_each_path[1][1])"
   ]
  },
  {
   "cell_type": "code",
   "execution_count": 10,
   "id": "0d75a60b",
   "metadata": {},
   "outputs": [],
   "source": [
    "all_files = glob.glob(os.path.join(path2, '*.txt'))"
   ]
  },
  {
   "cell_type": "code",
   "execution_count": 12,
   "id": "2846b962",
   "metadata": {},
   "outputs": [
    {
     "data": {
      "text/plain": [
       "'/home/leggero_e_tranquillo/Scrivania/articolo/NU3RHO5/SCAMBIABILE/NOVITA/nov_nu3rho5seed1701283569_1N_04_exchange.txt'"
      ]
     },
     "execution_count": 12,
     "metadata": {},
     "output_type": "execute_result"
    }
   ],
   "source": [
    "all_files[0]"
   ]
  },
  {
   "cell_type": "code",
   "execution_count": 38,
   "id": "8aaeb016",
   "metadata": {},
   "outputs": [],
   "source": [
    "all_incr_delays = []\n",
    "for novelties in all_files[:]:\n",
    "    novs = np.loadtxt(novelties)\n",
    "    list_of_delays = delays(novs,False)\n",
    "    support = np.unique(list_of_delays,return_counts=True)\n",
    "    increasing_delays = support[0] \n",
    "    freqs = support[1]/np.sum(support[1])\n",
    "    all_incr_delays.append([increasing_delays,freqs])"
   ]
  },
  {
   "cell_type": "code",
   "execution_count": 47,
   "id": "312a9388",
   "metadata": {},
   "outputs": [
    {
     "data": {
      "text/plain": [
       "[array([1.000e+00, 2.000e+00, 3.000e+00, ..., 5.679e+03, 5.719e+03,\n",
       "        5.836e+03]),\n",
       " array([3.15789474e-03, 2.60651629e-03, 3.60902256e-03, ...,\n",
       "        5.01253133e-05, 5.01253133e-05, 5.01253133e-05])]"
      ]
     },
     "execution_count": 47,
     "metadata": {},
     "output_type": "execute_result"
    }
   ],
   "source": [
    "all_incr_delays[1]"
   ]
  },
  {
   "cell_type": "code",
   "execution_count": 58,
   "id": "11cdb4b3",
   "metadata": {},
   "outputs": [],
   "source": [
    "original_array = [[1, 4, 6, 9], [4, 5, 32, 78]]\n",
    "transformed_array = transform_array(original_array,50)"
   ]
  },
  {
   "cell_type": "code",
   "execution_count": 59,
   "id": "8b91b74d",
   "metadata": {},
   "outputs": [
    {
     "data": {
      "text/plain": [
       "array([ 4,  0,  0,  5,  0, 32,  0,  0, 78,  0,  0,  0,  0,  0,  0,  0,  0,\n",
       "        0,  0,  0,  0,  0,  0,  0,  0,  0,  0,  0,  0,  0,  0,  0,  0,  0,\n",
       "        0,  0,  0,  0,  0,  0,  0,  0,  0,  0,  0,  0,  0,  0,  0,  0])"
      ]
     },
     "execution_count": 59,
     "metadata": {},
     "output_type": "execute_result"
    }
   ],
   "source": [
    "transformed_array"
   ]
  },
  {
   "cell_type": "code",
   "execution_count": 60,
   "id": "fa6876c7",
   "metadata": {},
   "outputs": [],
   "source": [
    "max_del = 0\n",
    "for i in all_incr_delays:\n",
    "    max_support = np.max(i[0])\n",
    "    if(max_support>max_del):\n",
    "        max_del = max_support"
   ]
  },
  {
   "cell_type": "code",
   "execution_count": 61,
   "id": "cd4cd9f7",
   "metadata": {},
   "outputs": [
    {
     "data": {
      "text/plain": [
       "29678.0"
      ]
     },
     "execution_count": 61,
     "metadata": {},
     "output_type": "execute_result"
    }
   ],
   "source": [
    "max_del"
   ]
  },
  {
   "cell_type": "code",
   "execution_count": 62,
   "id": "9673644d",
   "metadata": {},
   "outputs": [],
   "source": [
    "transformed_delay = [transform_array(i,int(max_del)) for i in all_incr_delays]"
   ]
  },
  {
   "cell_type": "code",
   "execution_count": 70,
   "id": "35f17725",
   "metadata": {},
   "outputs": [
    {
     "data": {
      "text/plain": [
       "[array([0.00314656, 0.00278349, 0.00290451, ..., 0.        , 0.        ,\n",
       "        0.        ]),\n",
       " array([0.00315789, 0.00260652, 0.00360902, ..., 0.        , 0.        ,\n",
       "        0.        ]),\n",
       " array([0.00604806, 0.00623622, 0.00607494, ..., 0.        , 0.        ,\n",
       "        0.        ]),\n",
       " array([0.00092826, 0.00106087, 0.00079565, ..., 0.        , 0.        ,\n",
       "        0.        ]),\n",
       " array([0.00697884, 0.00661282, 0.00712525, ..., 0.        , 0.        ,\n",
       "        0.        ]),\n",
       " array([0.01077398, 0.01067206, 0.01040999, ..., 0.        , 0.        ,\n",
       "        0.        ]),\n",
       " array([0.00059233, 0.00133274, 0.00133274, ..., 0.        , 0.        ,\n",
       "        0.        ]),\n",
       " array([0.00825228, 0.00839965, 0.00751547, ..., 0.        , 0.        ,\n",
       "        0.        ]),\n",
       " array([0.00278862, 0.00290017, 0.00262131, ..., 0.        , 0.        ,\n",
       "        0.        ]),\n",
       " array([0.00236714, 0.00349154, 0.00272222, ..., 0.        , 0.        ,\n",
       "        0.        ]),\n",
       " array([0.00360284, 0.00355605, 0.00364964, ..., 0.        , 0.        ,\n",
       "        0.        ]),\n",
       " array([0.00487299, 0.00490755, 0.00480387, ..., 0.        , 0.        ,\n",
       "        0.        ]),\n",
       " array([0.00201977, 0.00159456, 0.00170086, ..., 0.        , 0.        ,\n",
       "        0.        ]),\n",
       " array([0.00574787, 0.00605998, 0.00585191, ..., 0.        , 0.        ,\n",
       "        0.        ]),\n",
       " array([0.0048984 , 0.00460813, 0.00377358, ..., 0.        , 0.        ,\n",
       "        0.        ]),\n",
       " array([0.00107991, 0.00167987, 0.0011999 , ..., 0.        , 0.        ,\n",
       "        0.        ]),\n",
       " array([0.00722268, 0.00745033, 0.00745033, ..., 0.        , 0.        ,\n",
       "        0.        ]),\n",
       " array([0.00331858, 0.00301131, 0.0028884 , ..., 0.        , 0.        ,\n",
       "        0.        ]),\n",
       " array([0.00810986, 0.00783561, 0.00863876, ..., 0.        , 0.        ,\n",
       "        0.        ]),\n",
       " array([0.00520059, 0.00491757, 0.00406849, ..., 0.        , 0.        ,\n",
       "        0.        ]),\n",
       " array([0.00323326, 0.00277136, 0.0021775 , ..., 0.        , 0.        ,\n",
       "        0.        ]),\n",
       " array([0.00530496, 0.00530496, 0.0049637 , ..., 0.        , 0.        ,\n",
       "        0.        ]),\n",
       " array([0.00539874, 0.00619348, 0.00594683, ..., 0.        , 0.        ,\n",
       "        0.        ]),\n",
       " array([0.00462627, 0.0042465 , 0.00538581, ..., 0.        , 0.        ,\n",
       "        0.        ]),\n",
       " array([0.00400763, 0.00381308, 0.00427999, ..., 0.        , 0.        ,\n",
       "        0.        ]),\n",
       " array([0.00426235, 0.00403195, 0.00410875, ..., 0.        , 0.        ,\n",
       "        0.        ]),\n",
       " array([0.00222717, 0.00215037, 0.00199677, ..., 0.        , 0.        ,\n",
       "        0.        ]),\n",
       " array([0.00243271, 0.00219728, 0.00321745, ..., 0.        , 0.        ,\n",
       "        0.        ]),\n",
       " array([0.00432386, 0.00304096, 0.00313599, ..., 0.        , 0.        ,\n",
       "        0.        ]),\n",
       " array([0.00401623, 0.00413793, 0.0040568 , ..., 0.        , 0.        ,\n",
       "        0.        ]),\n",
       " array([0.00595284, 0.0064147 , 0.00579889, ..., 0.        , 0.        ,\n",
       "        0.        ]),\n",
       " array([0.00443787, 0.00474749, 0.00467868, ..., 0.        , 0.        ,\n",
       "        0.        ]),\n",
       " array([0.00369385, 0.00448822, 0.00468682, ..., 0.        , 0.        ,\n",
       "        0.        ]),\n",
       " array([0.00898377, 0.00875611, 0.00868606, ..., 0.        , 0.        ,\n",
       "        0.        ]),\n",
       " array([0.00419224, 0.00426711, 0.00430454, ..., 0.        , 0.        ,\n",
       "        0.        ]),\n",
       " array([0.00268632, 0.00231149, 0.00281127, ..., 0.        , 0.        ,\n",
       "        0.        ]),\n",
       " array([0.00378014, 0.00360634, 0.00391049, ..., 0.        , 0.        ,\n",
       "        0.        ]),\n",
       " array([0.00570551, 0.00622683, 0.00576344, ..., 0.        , 0.        ,\n",
       "        0.        ]),\n",
       " array([0.01160651, 0.01082803, 0.01132343, ..., 0.        , 0.        ,\n",
       "        0.        ]),\n",
       " array([0.00574327, 0.00568497, 0.00533512, ..., 0.        , 0.        ,\n",
       "        0.        ]),\n",
       " array([0.0031431 , 0.00332271, 0.00395133, ..., 0.        , 0.        ,\n",
       "        0.        ]),\n",
       " array([0.00569145, 0.00447642, 0.00508393, ..., 0.        , 0.        ,\n",
       "        0.        ]),\n",
       " array([0.00762982, 0.00810421, 0.00701706, ..., 0.        , 0.        ,\n",
       "        0.        ]),\n",
       " array([0.00218999, 0.00355266, 0.00326066, ..., 0.        , 0.        ,\n",
       "        0.        ]),\n",
       " array([0.00449812, 0.00449812, 0.00380922, ..., 0.        , 0.        ,\n",
       "        0.        ]),\n",
       " array([0.0009095 , 0.00159163, 0.00170532, ..., 0.        , 0.        ,\n",
       "        0.        ]),\n",
       " array([0.00312294, 0.00294277, 0.00258243, ..., 0.        , 0.        ,\n",
       "        0.        ]),\n",
       " array([0.00529749, 0.00473463, 0.00423799, ..., 0.        , 0.        ,\n",
       "        0.        ]),\n",
       " array([0.0003665 , 0.00128276, 0.000733  , ..., 0.        , 0.        ,\n",
       "        0.        ]),\n",
       " array([0.00150883, 0.0017751 , 0.00159759, ..., 0.        , 0.        ,\n",
       "        0.        ]),\n",
       " array([0.00477196, 0.00426347, 0.00395056, ..., 0.        , 0.        ,\n",
       "        0.        ]),\n",
       " array([0.00531544, 0.00624492, 0.00639015, ..., 0.        , 0.        ,\n",
       "        0.        ]),\n",
       " array([0.00178469, 0.00230282, 0.00241796, ..., 0.        , 0.        ,\n",
       "        0.        ]),\n",
       " array([0.00294222, 0.00289149, 0.0030944 , ..., 0.        , 0.        ,\n",
       "        0.        ]),\n",
       " array([0.00351476, 0.00351476, 0.00377319, ..., 0.        , 0.        ,\n",
       "        0.        ]),\n",
       " array([0.00827197, 0.0093477 , 0.00829052, ..., 0.        , 0.        ,\n",
       "        0.        ]),\n",
       " array([0.00772337, 0.00797319, 0.00772337, ..., 0.        , 0.        ,\n",
       "        0.        ]),\n",
       " array([0.00656268, 0.0069055 , 0.00663614, ..., 0.        , 0.        ,\n",
       "        0.        ]),\n",
       " array([0.00730905, 0.00667348, 0.00703666, ..., 0.        , 0.        ,\n",
       "        0.        ]),\n",
       " array([0.0051252, 0.0051252, 0.0052487, ..., 0.       , 0.       ,\n",
       "        0.       ]),\n",
       " array([0.0046167 , 0.00361145, 0.004021  , ..., 0.        , 0.        ,\n",
       "        0.        ]),\n",
       " array([0.00383627, 0.00443219, 0.00398525, ..., 0.        , 0.        ,\n",
       "        0.        ]),\n",
       " array([0.0039462 , 0.00330192, 0.0035838 , ..., 0.        , 0.        ,\n",
       "        0.        ]),\n",
       " array([0.00142942, 0.0013103 , 0.00095295, ..., 0.        , 0.        ,\n",
       "        0.        ]),\n",
       " array([0.005453 , 0.0044582, 0.0044582, ..., 0.       , 0.       ,\n",
       "        0.       ]),\n",
       " array([0.00949136, 0.00822237, 0.00884817, ..., 0.        , 0.        ,\n",
       "        0.        ]),\n",
       " array([0.00709433, 0.00626708, 0.00636735, ..., 0.        , 0.        ,\n",
       "        0.        ]),\n",
       " array([0.00665347, 0.00698734, 0.00655808, ..., 0.        , 0.        ,\n",
       "        0.        ]),\n",
       " array([0.00186278, 0.00316672, 0.0032909 , ..., 0.        , 0.        ,\n",
       "        0.        ]),\n",
       " array([0.00428209, 0.00413051, 0.00405472, ..., 0.        , 0.        ,\n",
       "        0.        ]),\n",
       " array([0.00317676, 0.00294985, 0.0024393 , ..., 0.        , 0.        ,\n",
       "        0.        ]),\n",
       " array([0.00807021, 0.00811056, 0.00720266, ..., 0.        , 0.        ,\n",
       "        0.        ]),\n",
       " array([0.00298579, 0.00238863, 0.00352323, ..., 0.        , 0.        ,\n",
       "        0.        ]),\n",
       " array([0.00589771, 0.00622396, 0.00604829, ..., 0.        , 0.        ,\n",
       "        0.        ]),\n",
       " array([0.00433017, 0.00417689, 0.00421521, ..., 0.        , 0.        ,\n",
       "        0.        ]),\n",
       " array([0.00501122, 0.00482676, 0.00491899, ..., 0.        , 0.        ,\n",
       "        0.        ]),\n",
       " array([0.00334896, 0.00303983, 0.00422484, ..., 0.        , 0.        ,\n",
       "        0.        ]),\n",
       " array([0.0019548 , 0.00134392, 0.00171045, ..., 0.        , 0.        ,\n",
       "        0.        ]),\n",
       " array([0.00422036, 0.00425805, 0.00422036, ..., 0.        , 0.        ,\n",
       "        0.        ]),\n",
       " array([0.00316892, 0.00316892, 0.00403782, ..., 0.        , 0.        ,\n",
       "        0.        ]),\n",
       " array([0.00766267, 0.00650485, 0.00696798, ..., 0.        , 0.        ,\n",
       "        0.        ]),\n",
       " array([0.00274247, 0.00300617, 0.00290069, ..., 0.        , 0.        ,\n",
       "        0.        ]),\n",
       " array([0.00452676, 0.00476865, 0.00514876, ..., 0.        , 0.        ,\n",
       "        0.        ]),\n",
       " array([0.00666716, 0.00656839, 0.00629676, ..., 0.        , 0.        ,\n",
       "        0.        ]),\n",
       " array([0.0007492, 0.0001873, 0.0005619, ..., 0.       , 0.       ,\n",
       "        0.0001873]),\n",
       " array([0.00460829, 0.00403226, 0.00349737, ..., 0.        , 0.        ,\n",
       "        0.        ]),\n",
       " array([0.00399912, 0.00351571, 0.00465832, ..., 0.        , 0.        ,\n",
       "        0.        ]),\n",
       " array([0.00417793, 0.00409601, 0.00385025, ..., 0.        , 0.        ,\n",
       "        0.        ]),\n",
       " array([0.0042943 , 0.00372173, 0.00392622, ..., 0.        , 0.        ,\n",
       "        0.        ]),\n",
       " array([0.00168593, 0.00192678, 0.00216763, ..., 0.        , 0.        ,\n",
       "        0.        ]),\n",
       " array([0.00375415, 0.00309935, 0.00327397, ..., 0.        , 0.        ,\n",
       "        0.        ]),\n",
       " array([0.00355664, 0.00316687, 0.00321559, ..., 0.        , 0.        ,\n",
       "        0.        ]),\n",
       " array([0.00149806, 0.0016743 , 0.00193867, ..., 0.        , 0.        ,\n",
       "        0.        ]),\n",
       " array([0.0014384 , 0.00262664, 0.0025641 , ..., 0.        , 0.        ,\n",
       "        0.        ]),\n",
       " array([0.00596088, 0.00702432, 0.00509333, ..., 0.        , 0.        ,\n",
       "        0.        ]),\n",
       " array([0.0021246 , 0.00226167, 0.00178192, ..., 0.        , 0.        ,\n",
       "        0.        ]),\n",
       " array([0.00650393, 0.00551362, 0.00548686, ..., 0.        , 0.        ,\n",
       "        0.        ]),\n",
       " array([0.00250698, 0.00186233, 0.00257861, ..., 0.        , 0.        ,\n",
       "        0.        ]),\n",
       " array([0.00364194, 0.00311482, 0.00311482, ..., 0.        , 0.        ,\n",
       "        0.        ]),\n",
       " array([0.00382115, 0.00355762, 0.0041286 , ..., 0.        , 0.        ,\n",
       "        0.        ]),\n",
       " array([0.00456855, 0.00507995, 0.00392077, ..., 0.        , 0.        ,\n",
       "        0.        ]),\n",
       " array([0.00616256, 0.00522796, 0.00522796, ..., 0.        , 0.        ,\n",
       "        0.        ])]"
      ]
     },
     "execution_count": 70,
     "metadata": {},
     "output_type": "execute_result"
    }
   ],
   "source": [
    "transformed_delay"
   ]
  },
  {
   "cell_type": "code",
   "execution_count": 73,
   "id": "7915b3fa",
   "metadata": {},
   "outputs": [
    {
     "data": {
      "text/plain": [
       "array([0., 0., 0., ..., 0., 0., 0.])"
      ]
     },
     "execution_count": 73,
     "metadata": {},
     "output_type": "execute_result"
    }
   ],
   "source": [
    "avg_freqs = np.zeros(int(max_del))\n",
    "avg_freqs"
   ]
  },
  {
   "cell_type": "code",
   "execution_count": 74,
   "id": "4dd48178",
   "metadata": {},
   "outputs": [],
   "source": [
    "avg_freqs = np.zeros(int(max_del))\n",
    "for i in transformed_delay:\n",
    "    avg_freqs +=i\n",
    "avg_freqs= avg_freqs/len(transformed_delay)"
   ]
  },
  {
   "cell_type": "code",
   "execution_count": 77,
   "id": "68aad0b3",
   "metadata": {},
   "outputs": [
    {
     "data": {
      "text/plain": [
       "1.0"
      ]
     },
     "execution_count": 77,
     "metadata": {},
     "output_type": "execute_result"
    }
   ],
   "source": [
    "np.sum(avg_freqs)"
   ]
  },
  {
   "cell_type": "code",
   "execution_count": 112,
   "id": "e19ec20d",
   "metadata": {
    "scrolled": false
   },
   "outputs": [
    {
     "data": {
      "image/png": "[encoded data removed]",
      "text/plain": [
       "<Figure size 700x700 with 1 Axes>"
      ]
     },
     "metadata": {},
     "output_type": "display_data"
    }
   ],
   "source": [
    "fig, axs = plt.subplots(figsize=(7,7),constrained_layout=True)\n",
    "axs.scatter(delays_frequencies_of_each_path[0][0],delays_frequencies_of_each_path[0][1])\n",
    "axs.scatter(delays_frequencies_of_each_path[1][0],delays_frequencies_of_each_path[1][1])\n",
    "axs.scatter(delays_frequencies_of_each_path[2][0],delays_frequencies_of_each_path[2][1])\n",
    "axs.scatter(delays_frequencies_of_each_path[3][0],delays_frequencies_of_each_path[3][1])\n",
    "axs.scatter(delays_frequencies_of_each_path[4][0],delays_frequencies_of_each_path[4][1])\n",
    "axs.scatter(delays_frequencies_of_each_path_umst[0][0],delays_frequencies_of_each_path_umst[0][1])\n",
    "axs.scatter(delays_frequencies_of_each_path_umst[1][0],delays_frequencies_of_each_path_umst[1][1])\n",
    "axs.scatter(delays_frequencies_of_each_path_umst[2][0],delays_frequencies_of_each_path_umst[2][1])\n",
    "axs.set_xscale('log')\n",
    "#axs.set_yscale('log')\n",
    "plt.show()"
   ]
  },
  {
   "cell_type": "code",
   "execution_count": null,
   "id": "aa1f1cc5",
   "metadata": {},
   "outputs": [],
   "source": []
  }
 ],
 "metadata": {
  "kernelspec": {
   "display_name": "Python 3 (ipykernel)",
   "language": "python",
   "name": "python3"
  },
  "language_info": {
   "codemirror_mode": {
    "name": "ipython",
    "version": 3
   },
   "file_extension": ".py",
   "mimetype": "text/x-python",
   "name": "python",
   "nbconvert_exporter": "python",
   "pygments_lexer": "ipython3",
   "version": "3.11.5"
  }
 },
 "nbformat": 4,
 "nbformat_minor": 5
}
