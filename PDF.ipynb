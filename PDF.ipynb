{
 "cells": [
  {
   "cell_type": "code",
   "execution_count": 184,
   "id": "6f2930a5",
   "metadata": {},
   "outputs": [],
   "source": [
    "import numpy as np\n",
    "import matplotlib.pyplot as plt\n",
    "import math\n",
    "import scipy.special as sp\n",
    "from decimal import Decimal, getcontext"
   ]
  },
  {
   "cell_type": "code",
   "execution_count": 185,
   "id": "95fec4a0",
   "metadata": {},
   "outputs": [],
   "source": [
    "getcontext().prec = 600"
   ]
  },
  {
   "cell_type": "code",
   "execution_count": 186,
   "id": "256408de",
   "metadata": {},
   "outputs": [],
   "source": [
    "def binomial_coeff_lists(lmax):\n",
    "    b_c = [[Decimal(0) for i in range(lmax)] for j in range(lmax) ]\n",
    "    for j in range(0,lmax):\n",
    "        b_c[j][0] = Decimal(1)\n",
    "        b_c[0][j] = Decimal(1)\n",
    "        b_c[j][j] = Decimal(1)\n",
    "    for k in range(1,lmax):\n",
    "        for s in range(1,k):\n",
    "            b_c[k][s] = Decimal(b_c[k-1][s]) + Decimal(b_c[k-1][s-1])\n",
    "    return b_c"
   ]
  },
  {
   "cell_type": "code",
   "execution_count": 225,
   "id": "2201930b",
   "metadata": {},
   "outputs": [],
   "source": [
    "def compute_terms(nu,rho,l_max,t_max,t_min):\n",
    "    frac = Decimal(nu/rho)\n",
    "    gamma = Decimal(1-nu/rho)\n",
    "    norm = Decimal(t_max - t_min)\n",
    "    const = ((Decimal(rho-nu))**(Decimal(frac)))*Decimal(frac)\n",
    "    const_array = [(Decimal(-1)**(i))*Decimal(const**(i+1)) for i in range(0,l_max)]\n",
    "    values = [Decimal(1/norm) for i in range (0,l_max)]\n",
    "    if(nu%(rho-nu)==0):\n",
    "        print('divergenza!')\n",
    "        idx_div = int(nu/(rho-nu))\n",
    "        times_array_pre_div = [ ((Decimal(t_min)**(-Decimal(gamma*(i+1))+Decimal(1)))-(Decimal(t_max)**(-Decimal(gamma*(i+1))+Decimal(1))))/(Decimal(gamma*(i+1)-1)) for i in range(0,idx_div)]\n",
    "        times_array_pre_div.append(Decimal(np.log(t_max/t_min)))\n",
    "        times_array_after_div = [ ((Decimal(t_min)**(-Decimal(gamma*(i+1))+Decimal(1)))-(Decimal(t_max)**(-Decimal(gamma*(i+1))+Decimal(1))))/(Decimal(gamma*(i+1)-1)) for i in range(idx_div+1,l_max)]\n",
    "        times_array = times_array_pre_div+times_array_after_div\n",
    "    \n",
    "    else:\n",
    "        times_array = [ ((Decimal(t_min)**(-Decimal(gamma*(i+1))+Decimal(1)))-(Decimal(t_max)**(-Decimal(gamma*(i+1))+Decimal(1))))/(Decimal(gamma*(i+1)-1)) for i in range(0,l_max)]\n",
    "        \n",
    "    for idx in range(0,l_max):\n",
    "        values[idx] = const_array[idx]*times_array[idx]*values[idx]\n",
    "    return values"
   ]
  },
  {
   "cell_type": "code",
   "execution_count": 226,
   "id": "e953ab12",
   "metadata": {},
   "outputs": [],
   "source": [
    "def probability_distribution(nu,rho,l_max,t_max,t_min):\n",
    "    binomial_coefficients = binomial_coeff_lists(l_max)\n",
    "    vals = compute_terms(nu,rho,l_max,t_max,t_min)\n",
    "    lengths= np.arange(1,l_max+1)\n",
    "    pdf_values = [Decimal(0) for i in range(0,l_max+1)]\n",
    "    for length in lengths:\n",
    "        for j in range (0,int(length)):\n",
    "            pdf_values[int(length)] += Decimal(binomial_coefficients[int(length-1)][j])*Decimal(vals[j])        \n",
    "    return lengths,pdf_values"
   ]
  },
  {
   "cell_type": "code",
   "execution_count": 227,
   "id": "d0b2ce2e",
   "metadata": {
    "scrolled": true
   },
   "outputs": [
    {
     "name": "stdout",
     "output_type": "stream",
     "text": [
      "divergenza!\n"
     ]
    }
   ],
   "source": [
    "x,y = probability_distribution(4,5,500,10000000,1000000)"
   ]
  },
  {
   "cell_type": "code",
   "execution_count": 229,
   "id": "42514f07",
   "metadata": {},
   "outputs": [
    {
     "data": {
      "image/png": "[encoded data removed]",
      "text/plain": [
       "<Figure size 1080x576 with 1 Axes>"
      ]
     },
     "metadata": {
      "needs_background": "light"
     },
     "output_type": "display_data"
    }
   ],
   "source": [
    "f = plt.figure(figsize=(15,8))\n",
    "ax = f.add_subplot()\n",
    "#ax.set_xscale(\"log\")\n",
    "#ax.set_yscale(\"log\")\n",
    "ax.scatter(np.log(x),y[1:]*x,color = 'b')\n",
    "#ax.scatter(heaps_2007.T[0][:],heaps_2007.T[1][:], color ='brown')\n",
    "\n",
    "\n",
    "\n",
    "plt.show()"
   ]
  },
  {
   "cell_type": "code",
   "execution_count": null,
   "id": "beab894b",
   "metadata": {},
   "outputs": [],
   "source": []
  }
 ],
 "metadata": {
  "kernelspec": {
   "display_name": "Python 3 (ipykernel)",
   "language": "python",
   "name": "python3"
  },
  "language_info": {
   "codemirror_mode": {
    "name": "ipython",
    "version": 3
   },
   "file_extension": ".py",
   "mimetype": "text/x-python",
   "name": "python",
   "nbconvert_exporter": "python",
   "pygments_lexer": "ipython3",
   "version": "3.9.7"
  }
 },
 "nbformat": 4,
 "nbformat_minor": 5
}
