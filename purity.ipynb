{
 "cells": [
  {
   "cell_type": "code",
   "execution_count": 1,
   "id": "27e1493a",
   "metadata": {},
   "outputs": [],
   "source": [
    "import numpy as np \n",
    "import math \n",
    "import matplotlib.pyplot as plt"
   ]
  },
  {
   "cell_type": "code",
   "execution_count": 2,
   "id": "355160d0",
   "metadata": {},
   "outputs": [],
   "source": [
    "def delays(novelties,flag):\n",
    "    delay = np.diff(novelties)\n",
    "    delay = np.array([i for i in delay if i!=1])\n",
    "    delay = np.array([i-1 for i in delay])\n",
    "    if(flag == True):\n",
    "        return np.log(delay)\n",
    "    else:\n",
    "        return delay\n",
    "def binning(delay):\n",
    "    c= np.log(2.09)/2\n",
    "    b = round(np.max(delay)/c)\n",
    "    bins = np.arange(0,b)*c\n",
    "    return bins"
   ]
  },
  {
   "cell_type": "code",
   "execution_count": 7,
   "id": "8ecb7a46",
   "metadata": {},
   "outputs": [],
   "source": [
    "novelties = np.loadtxt('nov_wr_PUST_Nin_1000_p_9_q_7.000000_l_0.300000_seed_5090.txt',dtype = int)\n",
    "types_ = np.loadtxt('Type_Of_Word_Nin_1000_p_9_q_7.000000_l_0.300000_seed_5090.txt',dtype=int)"
   ]
  },
  {
   "cell_type": "code",
   "execution_count": 16,
   "id": "9540f185",
   "metadata": {},
   "outputs": [],
   "source": [
    "seq = np.loadtxt('wr_PUST_Nin_1000_p_9_q_7.000000_l_0.300000_seed_5090.txt',dtype = int)"
   ]
  },
  {
   "cell_type": "code",
   "execution_count": 5,
   "id": "717bff94",
   "metadata": {},
   "outputs": [
    {
     "data": {
      "text/plain": [
       "array([1, 1, 1, ..., 4, 4, 4])"
      ]
     },
     "execution_count": 5,
     "metadata": {},
     "output_type": "execute_result"
    }
   ],
   "source": [
    "types_"
   ]
  },
  {
   "cell_type": "code",
   "execution_count": 18,
   "id": "8e5cd30b",
   "metadata": {},
   "outputs": [
    {
     "data": {
      "text/plain": [
       "array([1, 1, 1, 1, 1, 1, 1, 1, 1, 4, 1, 4, 1, 1, 1, 1, 1, 1, 1, 1, 1, 1,\n",
       "       1, 1, 1, 1, 1, 1, 1, 1, 1, 1, 1, 1, 1, 1, 1, 1, 1, 1, 1, 4, 1, 1,\n",
       "       1, 1, 1, 1, 1, 1])"
      ]
     },
     "execution_count": 18,
     "metadata": {},
     "output_type": "execute_result"
    }
   ],
   "source": [
    "types_[:50]"
   ]
  },
  {
   "cell_type": "code",
   "execution_count": 21,
   "id": "6bc301ae",
   "metadata": {},
   "outputs": [
    {
     "data": {
      "text/plain": [
       "array([ 1,  2,  3,  4,  5,  6,  7,  8,  9, 11, 13, 14, 15, 16, 17, 18, 19,\n",
       "       20, 21, 22, 23, 24, 25, 26, 27, 28, 29, 30, 31, 32])"
      ]
     },
     "execution_count": 21,
     "metadata": {},
     "output_type": "execute_result"
    }
   ],
   "source": [
    "novelties[:30]"
   ]
  },
  {
   "cell_type": "code",
   "execution_count": 54,
   "id": "f945b521",
   "metadata": {},
   "outputs": [
    {
     "data": {
      "text/plain": [
       "array([ 696,  243,  522,  413,  952,  502,   33,  564,  212,  413,  854,\n",
       "        854,  680,  577,  795,  981,  304,  113,  561,  841, 1050,  947,\n",
       "        202,  937,  204, 1118,  533,  440,  942, 1226])"
      ]
     },
     "execution_count": 54,
     "metadata": {},
     "output_type": "execute_result"
    }
   ],
   "source": [
    "seq[:30]"
   ]
  },
  {
   "cell_type": "code",
   "execution_count": 25,
   "id": "312a0eef",
   "metadata": {},
   "outputs": [
    {
     "data": {
      "text/plain": [
       "(9, 11)"
      ]
     },
     "execution_count": 25,
     "metadata": {},
     "output_type": "execute_result"
    }
   ],
   "source": [
    "novelties[8],novelties[9]"
   ]
  },
  {
   "cell_type": "code",
   "execution_count": 52,
   "id": "56d345cc",
   "metadata": {},
   "outputs": [
    {
     "data": {
      "text/plain": [
       "array([4, 5, 5, 4, 4, 4, 4, 4])"
      ]
     },
     "execution_count": 52,
     "metadata": {},
     "output_type": "execute_result"
    }
   ],
   "source": [
    "types_[novelties[1502]:novelties[1503]-1]"
   ]
  },
  {
   "cell_type": "code",
   "execution_count": 46,
   "id": "b5c76bae",
   "metadata": {},
   "outputs": [
    {
     "data": {
      "text/plain": [
       "1"
      ]
     },
     "execution_count": 46,
     "metadata": {},
     "output_type": "execute_result"
    }
   ],
   "source": [
    "novelties[1501]-novelties[1500]"
   ]
  },
  {
   "cell_type": "code",
   "execution_count": 60,
   "id": "f2fcdd83",
   "metadata": {},
   "outputs": [],
   "source": [
    "def pure_in_out(types,novs):\n",
    "    dict_4 = []\n",
    "    dict_5 = []\n",
    "    #delays_ = delays(novs,True)\n",
    "    #bins_ = binning(delays_)\n",
    "    for idx,i in enumerate(novs[:-1]):\n",
    "        if(novelties[idx+1]-novelties[idx]==1):\n",
    "            pass\n",
    "        else:\n",
    "            chunk = types[novs[idx]:novs[idx+1]-1]\n",
    "            tot_length = len(chunk)\n",
    "            start_value = chunk[0]\n",
    "            \n",
    "            if(start_value == 4):\n",
    "                control = True\n",
    "            else:\n",
    "                control = False\n",
    "                    \n",
    "            counter_start = 1\n",
    "            for _,non_nov in enumerate(chunk[1:]):\n",
    "                if non_nov == start_value:\n",
    "                    counter_start+=1\n",
    "                else:\n",
    "                    if (control == True):\n",
    "                        dict_4.append(counter_start)\n",
    "                        control = !control\n",
    "                        counter_start = 1\n",
    "                        start_value = non_nov\n",
    "                    else:\n",
    "                        dict_5.append(counter_start)\n",
    "                        control = !control\n",
    "                        counter_start = 1\n",
    "                        start_value = non_nov\n",
    "                        \n",
    "    return dict_4,dict_5\n",
    "                \n",
    "            \n",
    "        \n",
    "        \n",
    "    "
   ]
  },
  {
   "cell_type": "code",
   "execution_count": 61,
   "id": "02fd3a4c",
   "metadata": {},
   "outputs": [],
   "source": [
    "type_4,type_5 = pure_in_out(types_,novelties)"
   ]
  },
  {
   "cell_type": "code",
   "execution_count": 64,
   "id": "15630801",
   "metadata": {},
   "outputs": [],
   "source": [
    "logs_5 = np.log(np.array(type_5))"
   ]
  },
  {
   "cell_type": "code",
   "execution_count": 68,
   "id": "64828cb8",
   "metadata": {},
   "outputs": [],
   "source": [
    "logs_4 = np.log(np.array(type_4))"
   ]
  },
  {
   "cell_type": "code",
   "execution_count": 86,
   "id": "7340a04c",
   "metadata": {},
   "outputs": [
    {
     "data": {
      "image/png": "[encoded data removed]",
      "text/plain": [
       "<Figure size 1080x864 with 1 Axes>"
      ]
     },
     "metadata": {
      "needs_background": "light"
     },
     "output_type": "display_data"
    }
   ],
   "source": [
    "fig, axs = plt.subplots(figsize=(15,12),constrained_layout=True)\n",
    "axs.hist(logs_4,density = True, bins=11,edgecolor = 'black')\n",
    "plt.show()"
   ]
  },
  {
   "cell_type": "code",
   "execution_count": 78,
   "id": "f9faaadb",
   "metadata": {},
   "outputs": [
    {
     "data": {
      "text/plain": [
       "84602"
      ]
     },
     "execution_count": 78,
     "metadata": {},
     "output_type": "execute_result"
    }
   ],
   "source": [
    "len(logs_5)"
   ]
  },
  {
   "cell_type": "code",
   "execution_count": null,
   "id": "6cf273d0",
   "metadata": {},
   "outputs": [],
   "source": []
  }
 ],
 "metadata": {
  "kernelspec": {
   "display_name": "Python 3 (ipykernel)",
   "language": "python",
   "name": "python3"
  },
  "language_info": {
   "codemirror_mode": {
    "name": "ipython",
    "version": 3
   },
   "file_extension": ".py",
   "mimetype": "text/x-python",
   "name": "python",
   "nbconvert_exporter": "python",
   "pygments_lexer": "ipython3",
   "version": "3.9.7"
  }
 },
 "nbformat": 4,
 "nbformat_minor": 5
}
