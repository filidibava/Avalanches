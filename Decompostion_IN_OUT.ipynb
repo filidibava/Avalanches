{
 "cells": [
  {
   "cell_type": "code",
   "execution_count": 35,
   "id": "07ed151a",
   "metadata": {},
   "outputs": [],
   "source": [
    "import numpy as np \n",
    "from scipy.optimize import curve_fit\n",
    "import matplotlib.pyplot as plt\n",
    "import numpy as np\n",
    "#from functions import delays\n",
    "\n"
   ]
  },
  {
   "cell_type": "code",
   "execution_count": 39,
   "id": "527587a8",
   "metadata": {},
   "outputs": [],
   "source": [
    "novelties6 = np.loadtxt('nov_wr_PUST_Nin_6_p_5_q_2.000000_l_0.100000_seed_6.txt').astype(int)\n",
    "novelties7 = np.loadtxt('nov_wr_PUST_Nin_6_p_5_q_2.000000_l_0.100000_seed_7.txt').astype(int)"
   ]
  },
  {
   "cell_type": "code",
   "execution_count": 40,
   "id": "d83708ff",
   "metadata": {},
   "outputs": [],
   "source": [
    "type_6 =np.loadtxt('Type_Of_Word_Nin_6_p_5_q_2.000000_l_0.100000_seed_6.txt').astype(int)\n",
    "type_7 =np.loadtxt('Type_Of_Word_Nin_6_p_5_q_2.000000_l_0.100000_seed_7.txt').astype(int)"
   ]
  },
  {
   "cell_type": "code",
   "execution_count": 36,
   "id": "ce4262d8",
   "metadata": {},
   "outputs": [],
   "source": [
    "def delays(novelties,flag):\n",
    "    delay = np.diff(novelties)\n",
    "    delay = np.array([i for i in delay if i!=1])\n",
    "    delay = np.array([i-1 for i in delay])\n",
    "    if(flag == True):\n",
    "        return np.log(delay)\n",
    "    else:\n",
    "        return delay"
   ]
  },
  {
   "cell_type": "code",
   "execution_count": 119,
   "id": "3b076fe0",
   "metadata": {},
   "outputs": [],
   "source": [
    "def decomposing_the_curve_def(type_w,novelties,time):\n",
    "    dict_full_4_5 = {}\n",
    "    delay,frequencies = np.unique(delays(novelties,False),return_counts=True)\n",
    "    for idx,i in enumerate(delay):\n",
    "        dict_full_4_5[i] ={\"Frequencies\": frequencies[idx], \"Frequencies_4\": 0.,\"Frequencies_5\": 0.}\n",
    "    for idx2 in range(1,len(novelties)):\n",
    "        delay_ = novelties[idx2]-novelties[idx2-1]-1\n",
    "        if(delay_ == 0):\n",
    "            pass\n",
    "        else:\n",
    "            lower_idx = int(novelties[idx2-1]-1)\n",
    "            upper_idx = int(novelties[idx2]-1)\n",
    "            dict_full_4_5[delay_][\"Frequencies_4\"]+= type_w[lower_idx:upper_idx].count(4)/(delay_)\n",
    "            dict_full_4_5[delay_][\"Frequencies_5\"]+= type_w[lower_idx:upper_idx].count(5)/(delay_)    \n",
    "    \n",
    "    if time:\n",
    "        dict_full_4_5_before = {}\n",
    "        dict_full_4_5_after = {}\n",
    "        for idx,i in enumerate(novelties):\n",
    "            if i>time:\n",
    "                sep = idx\n",
    "                break\n",
    "        novelties_before = novelties[:sep+1]\n",
    "        delay_bef,frequencies_bef = np.unique(delays(novelties_before,False),return_counts=True)\n",
    "        for idx,i in enumerate(delay_bef):\n",
    "            dict_full_4_5_before[i] ={\"Frequencies\": frequencies_bef[idx], \"Frequencies_4\": 0.,\"Frequencies_5\": 0.}\n",
    "        for idx2 in range(1,len(novelties_before)):\n",
    "            delay_ = novelties_before[idx2]-novelties_before[idx2-1]-1\n",
    "            if(delay_ == 0):\n",
    "                pass\n",
    "            else:\n",
    "                lower_idx = int(novelties_before[idx2-1]-1)\n",
    "                upper_idx = int(novelties_before[idx2]-1)\n",
    "                dict_full_4_5_before[delay_][\"Frequencies_4\"]+= type_w[lower_idx:upper_idx].count(4)/(delay_)\n",
    "                dict_full_4_5_before[delay_][\"Frequencies_5\"]+= type_w[lower_idx:upper_idx].count(5)/(delay_)\n",
    "        \n",
    "        novelties_after = novelties[sep:]\n",
    "        delay_aft,frequencies_aft = np.unique(delays(novelties_after,False),return_counts=True)\n",
    "        for idx,i in enumerate(delay_aft):\n",
    "            dict_full_4_5_after[i] ={\"Frequencies\": frequencies_aft[idx], \"Frequencies_4\": 0.,\"Frequencies_5\": 0.}\n",
    "        \n",
    "        for idx2 in range(1,len(novelties_after)):\n",
    "            delay_ = novelties_after[idx2]-novelties_after[idx2-1]-1\n",
    "            if(delay_ == 0):\n",
    "                pass\n",
    "            else:\n",
    "                lower_idx = int(novelties_after[idx2-1]-1)\n",
    "                upper_idx = int(novelties_after[idx2]-1)\n",
    "                dict_full_4_5_after[delay_][\"Frequencies_4\"]+= type_w[lower_idx:upper_idx].count(4)/(delay_)\n",
    "                dict_full_4_5_after[delay_][\"Frequencies_5\"]+= type_w[lower_idx:upper_idx].count(5)/(delay_)\n",
    "        \n",
    "        return dict_full_4_5,dict_full_4_5_before,dict_full_4_5_after\n",
    "    \n",
    "    else:\n",
    "        return dict_full_4_5"
   ]
  },
  {
   "cell_type": "code",
   "execution_count": 120,
   "id": "e3abb551",
   "metadata": {},
   "outputs": [],
   "source": [
    "p = decomposing_the_curve_def(list(type_6),novelties6,False)"
   ]
  },
  {
   "cell_type": "code",
   "execution_count": 10,
   "id": "cc3071dd",
   "metadata": {},
   "outputs": [
    {
     "data": {
      "text/plain": [
       "300009"
      ]
     },
     "execution_count": 10,
     "metadata": {},
     "output_type": "execute_result"
    }
   ],
   "source": [
    "novelties7[15728]"
   ]
  },
  {
   "cell_type": "code",
   "execution_count": 11,
   "id": "851199d0",
   "metadata": {},
   "outputs": [],
   "source": [
    "delay_6_log = delays(novelties6[:],True)\n",
    "delay_7_log = delays(novelties7[:],True)"
   ]
  },
  {
   "cell_type": "code",
   "execution_count": 12,
   "id": "3b5b87c5",
   "metadata": {},
   "outputs": [],
   "source": [
    "def binning_2(delay,n_bin):\n",
    "    n,b= np.histogram(delay,n_bin)\n",
    "    b_min = b[1]\n",
    "    #print(b_min)\n",
    "    bins = [0]\n",
    "    unique = np.unique(delay,return_counts=True)\n",
    "    support=((unique[0][1])/2)+0.01\n",
    "    bins.append(support)\n",
    "    bins.append(bins[-1]+support)\n",
    "\n",
    "    for idx,i in enumerate(unique[0][2:-1]):\n",
    "        support=(unique[0][idx+2]-unique[0][idx+1])\n",
    "        if(support > b_min):\n",
    "            supp2 = bins[-1]+support\n",
    "            bins.append(supp2)\n",
    "        else:\n",
    "            bins.append(bins[-1]+b_min)\n",
    "        if (bins[-1]>unique[0][-1]):\n",
    "            break\n",
    "    return np.array(bins)\n",
    "def binning(delay):\n",
    "    c= np.log(2.09)/2\n",
    "    b = round(np.max(delay)/c)\n",
    "    bins = np.arange(0,b)*c\n",
    "    return bins"
   ]
  },
  {
   "cell_type": "code",
   "execution_count": 13,
   "id": "9f30ba06",
   "metadata": {},
   "outputs": [
    {
     "data": {
      "image/png": "[encoded data removed]",
      "text/plain": [
       "<Figure size 432x288 with 1 Axes>"
      ]
     },
     "metadata": {
      "needs_background": "light"
     },
     "output_type": "display_data"
    }
   ],
   "source": [
    "n6, bins_6, patches6 = plt.hist(x=delay_6_log,density=False, bins=binning(delay_6_log), color='y',alpha=0.7, rwidth=0.85)"
   ]
  }
 ],
 "metadata": {
  "kernelspec": {
   "display_name": "Python 3 (ipykernel)",
   "language": "python",
   "name": "python3"
  },
  "language_info": {
   "codemirror_mode": {
    "name": "ipython",
    "version": 3
   },
   "file_extension": ".py",
   "mimetype": "text/x-python",
   "name": "python",
   "nbconvert_exporter": "python",
   "pygments_lexer": "ipython3",
   "version": "3.9.7"
  }
 },
 "nbformat": 4,
 "nbformat_minor": 5
}
